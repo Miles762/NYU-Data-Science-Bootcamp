{
 "cells": [
  {
   "cell_type": "markdown",
   "id": "1219822f",
   "metadata": {},
   "source": [
    "## 1. How do you assess the statistical significance of an insight?"
   ]
  },
  {
   "cell_type": "markdown",
   "id": "3894c5ea",
   "metadata": {},
   "source": [
    "Statistical significance is assessed using hypothesis testing. Typically, you set up a null hypothesis (no effect or difference) and an alternative hypothesis (there is an effect). You then calculate a p-value, which measures the likelihood of observing your results if the null hypothesis is true. If the p-value is below a predetermined significance level (usually 0.05), you reject the null hypothesis and conclude the insight is statistically significant."
   ]
  },
  {
   "cell_type": "markdown",
   "id": "828b19b0",
   "metadata": {},
   "source": [
    "## 2. What is the Central Limit Theorem? Explain it. Why is it important?"
   ]
  },
  {
   "cell_type": "markdown",
   "id": "8ec33d16",
   "metadata": {},
   "source": [
    "The Central Limit Theorem (CLT) states that the sampling distribution of the sample means approaches a normal distribution as the sample size grows, regardless of the original population distribution. This theorem is important because it allows statisticians to make inferences about population parameters (such as the mean) even when the original data is not normally distributed. It also justifies the use of normal distribution assumptions for confidence intervals and hypothesis tests"
   ]
  },
  {
   "cell_type": "markdown",
   "id": "d62cbc1f",
   "metadata": {},
   "source": [
    "## 3. What is statistical power?"
   ]
  },
  {
   "cell_type": "markdown",
   "id": "bf89d122",
   "metadata": {},
   "source": [
    "Statistical power is the probability that a statistical test will correctly reject a false null hypothesis (i.e., detect a real effect or difference). Higher statistical power means a lower chance of making a Type II error (failing to detect a true effect). Factors influencing statistical power include sample size, effect size, significance level, and variability of data."
   ]
  },
  {
   "cell_type": "markdown",
   "id": "bbe1e7ec",
   "metadata": {},
   "source": [
    "## 4. How do you control for biases?"
   ]
  },
  {
   "cell_type": "markdown",
   "metadata": {},
   "source": [
    "Biases can be controlled by:\n",
    "\n",
    "\n",
    "1) Randomization: Ensuring participants or subjects are randomly assigned to groups to evenly distribute biases.\n",
    "\n",
    "2) Blinding: Keeping study participants or experimenters unaware of treatment assignments to prevent expectation biases.\n",
    "\n",
    "3) Matching: Pairing subjects with similar characteristics across groups.\n",
    "\n",
    "4) Control Groups: Using groups that do not receive treatment to isolate the effect.\n",
    "\n",
    "5) Stratification: Analyzing data separately within groups that might differ systematically."
   ]
  },
  {
   "cell_type": "markdown",
   "metadata": {},
   "source": [
    "## 5. What are confounding variables?"
   ]
  },
  {
   "cell_type": "markdown",
   "metadata": {},
   "source": [
    "Confounding variables are external factors or variables that influence both the dependent variable (outcome) and independent variable (predictor), making it difficult to establish a clear cause-and-effect relationship. Failure to account for confounders may lead to biased or misleading conclusions"
   ]
  },
  {
   "cell_type": "markdown",
   "id": "9d971d8a",
   "metadata": {},
   "source": [
    "## 6. What is A/B testing?"
   ]
  },
  {
   "cell_type": "markdown",
   "id": "78f6a4a8",
   "metadata": {},
   "source": [
    "A/B testing is a method of comparing two versions (version A and version B) of a product, webpage, or process to determine which performs better based on predefined metrics (e.g., click-through rate, conversion rate). Users or participants are randomly split into two groups, each experiencing one version, allowing objective measurement and statistical comparison of their effectiveness."
   ]
  },
  {
   "cell_type": "markdown",
   "id": "ebd43d96",
   "metadata": {},
   "source": [
    "## 7. What are confidence intervals?"
   ]
  },
  {
   "cell_type": "markdown",
   "id": "486481e7",
   "metadata": {},
   "source": [
    "A confidence interval is a range of values, derived from sample data, that likely contains the true value of an unknown population parameter (such as a population mean or proportion). A 95% confidence interval, for instance, means that if the same population is sampled repeatedly, approximately 95% of the intervals computed would contain the true parameter value. Confidence intervals provide insight into the precision and uncertainty of an estimate"
   ]
  }
 ],
 "metadata": {
  "language_info": {
   "name": "python"
  }
 },
 "nbformat": 4,
 "nbformat_minor": 5
}
